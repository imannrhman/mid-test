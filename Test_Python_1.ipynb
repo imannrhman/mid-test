{
  "nbformat": 4,
  "nbformat_minor": 5,
  "metadata": {
    "kernelspec": {
      "display_name": "Python 3",
      "language": "python",
      "name": "python3"
    },
    "language_info": {
      "codemirror_mode": {
        "name": "ipython",
        "version": 3
      },
      "file_extension": ".py",
      "mimetype": "text/x-python",
      "name": "python",
      "nbconvert_exporter": "python",
      "pygments_lexer": "ipython3",
      "version": "3.7.0"
    },
    "colab": {
      "provenance": []
    }
  },
  "cells": [
    {
      "cell_type": "markdown",
      "metadata": {
        "id": "87919d68"
      },
      "source": [
        "### Python 1 : Addition To String"
      ],
      "id": "87919d68"
    },
    {
      "cell_type": "markdown",
      "metadata": {
        "id": "c061c30a"
      },
      "source": [
        "### Task"
      ],
      "id": "c061c30a"
    },
    {
      "cell_type": "markdown",
      "metadata": {
        "id": "66fcf833"
      },
      "source": [
        "Your function name should be `add_str`.\n",
        "\n",
        "Given a string filled with integers separated by comma. Create a new number, whose digits are the integers inside the string. Then, add 1 to the new number. Then, separate the digits again to a string which consits of **single digit of\n",
        "integers**, separated by comma. This new string will be your output string. The output string **should not have zero as its first character**.  See the examples for clearer understanding."
      ],
      "id": "66fcf833"
    },
    {
      "cell_type": "markdown",
      "metadata": {
        "id": "aee24374"
      },
      "source": [
        "### Example 1:\n",
        "\n",
        "- Input = `'1,3,5'`\n",
        "- Output = `'1,3,6'`\n",
        "\n",
        "Since the input is `'1,3,5'`, then the new number created is 135. Add 135 with 1 so it becomes 136. Then, separate back 136 into each individual digits separated by comma. This becomes `'1,3,6'`. So, the expected output of your solution is `'1,3,6'`"
      ],
      "id": "aee24374"
    },
    {
      "cell_type": "markdown",
      "metadata": {
        "id": "e85af386"
      },
      "source": [
        "### Example 2:\n",
        "\n",
        "- Input = `'1,3,39'`\n",
        "- Output = `'1,3,4,0'`\n",
        "\n",
        "Since the input is `'1,3,39'`, then the new number created is 1339. Add 1339 with 1 so it becomes 1340. Then, separate back 1340 into each individual digits separated by comma. This becomes `'1,3,4,0'`. So, the expected output of your solution is `'1,3,4,0'`"
      ],
      "id": "e85af386"
    },
    {
      "cell_type": "markdown",
      "metadata": {
        "id": "bbeb3f41"
      },
      "source": [
        "### Example 1:\n",
        "\n",
        "- Input = `'0,1,3,39'`\n",
        "- Output = `'1,3,4,0'`\n",
        "\n",
        "Since the input is `'0,1,3,39'`, then the new number created is 1339. Add 1339 with 1 so it becomes 1340. Then, separate back 1340 into each individual digits separated by comma. This becomes `'1,3,4,0'`. So, the expected output of your solution is `'1,3,4,0'`. Remember, do not put a 'zero' in the beginning of your output."
      ],
      "id": "bbeb3f41"
    },
    {
      "cell_type": "markdown",
      "metadata": {
        "id": "e7807496"
      },
      "source": [
        "### Input Format\n",
        "\n",
        "The input is in the shape of a string."
      ],
      "id": "e7807496"
    },
    {
      "cell_type": "markdown",
      "metadata": {
        "id": "e9f0d6c5"
      },
      "source": [
        "### Output Format\n",
        "\n",
        "The output is in the shape of a string."
      ],
      "id": "e9f0d6c5"
    },
    {
      "cell_type": "markdown",
      "metadata": {
        "id": "f9173e59"
      },
      "source": [
        "### Sample Input"
      ],
      "id": "f9173e59"
    },
    {
      "cell_type": "markdown",
      "metadata": {
        "id": "c0526b8c"
      },
      "source": [
        "`'1,5,1,9'`"
      ],
      "id": "c0526b8c"
    },
    {
      "cell_type": "markdown",
      "metadata": {
        "id": "71fad9f8"
      },
      "source": [
        "### Sample Output\n",
        "`'1,5,2,0'`"
      ],
      "id": "71fad9f8"
    },
    {
      "cell_type": "markdown",
      "metadata": {
        "id": "8306d027"
      },
      "source": [
        "### Space for Work"
      ],
      "id": "8306d027"
    },
    {
      "cell_type": "code",
      "metadata": {
        "id": "6756b480"
      },
      "source": [
        "def add_str(input_string):\n",
        "    ### Write your solution here ###\n",
        "    list_number = input_string.split(\",\")\n",
        "    convert_number = \"\"\n",
        "    convert_number = \"\".join(list_number)\n",
        "\n",
        "    output_number = int(convert_number) + 1\n",
        "    output_string = \",\".join(list(str(output_number)))\n",
        "\n",
        "    return output_string\n",
        ""
      ],
      "id": "6756b480",
      "execution_count": 27,
      "outputs": []
    },
    {
      "cell_type": "code",
      "source": [
        "add_str('1,3,5')"
      ],
      "metadata": {
        "colab": {
          "base_uri": "https://localhost:8080/",
          "height": 35
        },
        "id": "Eo9joq8DWnUU",
        "outputId": "6905df63-078a-4029-e1c8-14c85d38efd2"
      },
      "id": "Eo9joq8DWnUU",
      "execution_count": 28,
      "outputs": [
        {
          "output_type": "execute_result",
          "data": {
            "text/plain": [
              "'1,3,6'"
            ],
            "application/vnd.google.colaboratory.intrinsic+json": {
              "type": "string"
            }
          },
          "metadata": {},
          "execution_count": 28
        }
      ]
    },
    {
      "cell_type": "code",
      "source": [
        "add_str('1,3,39')"
      ],
      "metadata": {
        "colab": {
          "base_uri": "https://localhost:8080/",
          "height": 35
        },
        "id": "SH13DgQ8WkId",
        "outputId": "623e4225-2ee9-4a5c-d7e9-833589e47d0a"
      },
      "id": "SH13DgQ8WkId",
      "execution_count": 29,
      "outputs": [
        {
          "output_type": "execute_result",
          "data": {
            "text/plain": [
              "'1,3,4,0'"
            ],
            "application/vnd.google.colaboratory.intrinsic+json": {
              "type": "string"
            }
          },
          "metadata": {},
          "execution_count": 29
        }
      ]
    },
    {
      "cell_type": "code",
      "source": [
        "add_str('0,1,3,39')"
      ],
      "metadata": {
        "colab": {
          "base_uri": "https://localhost:8080/",
          "height": 35
        },
        "id": "njiJFosGWg-n",
        "outputId": "f4430bbe-d764-445e-ba9f-d5e7bf920b73"
      },
      "id": "njiJFosGWg-n",
      "execution_count": 30,
      "outputs": [
        {
          "output_type": "execute_result",
          "data": {
            "text/plain": [
              "'1,3,4,0'"
            ],
            "application/vnd.google.colaboratory.intrinsic+json": {
              "type": "string"
            }
          },
          "metadata": {},
          "execution_count": 30
        }
      ]
    },
    {
      "cell_type": "code",
      "source": [
        "add_str('1,5,1,9')"
      ],
      "metadata": {
        "colab": {
          "base_uri": "https://localhost:8080/",
          "height": 35
        },
        "id": "4wAjMaaQUJlH",
        "outputId": "d6e7e701-a6f1-457a-9e0a-f98a68e801d3"
      },
      "id": "4wAjMaaQUJlH",
      "execution_count": 31,
      "outputs": [
        {
          "output_type": "execute_result",
          "data": {
            "text/plain": [
              "'1,5,2,0'"
            ],
            "application/vnd.google.colaboratory.intrinsic+json": {
              "type": "string"
            }
          },
          "metadata": {},
          "execution_count": 31
        }
      ]
    }
  ]
}