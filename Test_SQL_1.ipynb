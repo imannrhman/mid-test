{
  "cells": [
    {
      "cell_type": "markdown",
      "id": "87919d68",
      "metadata": {
        "id": "87919d68"
      },
      "source": [
        "### SQL 1 : Consecutive Numbers"
      ]
    },
    {
      "cell_type": "markdown",
      "id": "c061c30a",
      "metadata": {
        "id": "c061c30a"
      },
      "source": [
        "### Task"
      ]
    },
    {
      "cell_type": "markdown",
      "id": "66fcf833",
      "metadata": {
        "id": "66fcf833"
      },
      "source": [
        "Write a SQL query to find all numbers that appear at least 3 times in a row.\n",
        "\n",
        "The input will be a table named `input_table` and has 2 columns:\n",
        "- 'id' column, a unique ID of each row, showing the order\n",
        "- 'num' column, a number for each ID\n",
        "\n",
        "Your output will be a table with only 1 column and display the number that appear at least 3 times (or more) in a row. Don't output a duplicate number.\n",
        "\n",
        "Your output should be in ascending order.\n",
        "\n",
        "The `id` column in `input_table` will always be in the form of an INTEGER, and the next row is always +1 from the previous row."
      ]
    },
    {
      "cell_type": "markdown",
      "id": "aee24374",
      "metadata": {
        "id": "aee24374"
      },
      "source": [
        "### Example 1:\n",
        "\n",
        "- Input: a table named `input_table` as such:\n",
        "\n",
        "| id | num |\n",
        "| --- | --- |\n",
        "| 1 | 1 |\n",
        "| 2 | 1 |\n",
        "| 3 | 1 |\n",
        "| 4 | 2 |\n",
        "| 5 | 1 |\n",
        "| 6 | 2 |\n",
        "| 7 | 2 |\n",
        "| 8 | 1 |\n",
        "\n",
        "- Output =\n",
        "| num |\n",
        "| --- |\n",
        "| 1 |\n",
        "\n",
        "\n",
        "In our `input_table`, the number '1' appears 3 times in a row (ID 1, ID 2, ID 3). So, our output is '1'."
      ]
    },
    {
      "cell_type": "markdown",
      "id": "e85af386",
      "metadata": {
        "id": "e85af386"
      },
      "source": [
        "### Example 2:\n",
        "\n",
        "- Input =\n",
        "\n",
        "| id | num |\n",
        "| --- | --- |\n",
        "| 1 | 1 |\n",
        "| 2 | 2 |\n",
        "| 3 | 2 |\n",
        "| 4 | 2 |\n",
        "| 5 | 2 |\n",
        "| 6 | 1 |\n",
        "| 7 | 1 |\n",
        "| 8 | 1 |\n",
        "| 9 | 1 |\n",
        "\n",
        "- Output =\n",
        "| num |\n",
        "| --- |\n",
        "| 1 |\n",
        "| 2 |\n",
        "\n",
        "\n",
        "The number '2' appears four times in a row (ID 2, 3, 4, 5) and number '1' appears four times in a row (ID 6, 7, 8, 9). So, the numbers that appear at least three times in a row are number '1' and '2'."
      ]
    },
    {
      "cell_type": "markdown",
      "id": "bf605450",
      "metadata": {
        "id": "bf605450"
      },
      "source": [
        "### Example 3:\n",
        "\n",
        "- Input =\n",
        "\n",
        "| id | num |\n",
        "| --- | --- |\n",
        "| 1 | 1 |\n",
        "| 2 | 2 |\n",
        "| 3 | 1 |\n",
        "| 4 | 2 |\n",
        "| 5 | 2 |\n",
        "| 6 | 1 |\n",
        "| 7 | 1 |\n",
        "| 8 | 2 |\n",
        "| 9 | 1 |\n",
        "\n",
        "- Output =\n",
        "| num |\n",
        "| --- |\n",
        "\n",
        "\n",
        "In this example, none of our numbers appear consecutively at least 3 times. At most, they appear consecutively 2 times. So, our output will be empty (karena tidak ada angka yang muncul minimal 3 kali berturut turut)."
      ]
    },
    {
      "cell_type": "markdown",
      "id": "e7807496",
      "metadata": {
        "id": "e7807496"
      },
      "source": [
        "### Input Format\n",
        "\n",
        "The input is in the shape of a table named `input_table`"
      ]
    },
    {
      "cell_type": "markdown",
      "id": "e9f0d6c5",
      "metadata": {
        "id": "e9f0d6c5"
      },
      "source": [
        "### Output Format\n",
        "\n",
        "The output is in the shape of a table with a single column"
      ]
    },
    {
      "cell_type": "markdown",
      "id": "f9173e59",
      "metadata": {
        "id": "f9173e59"
      },
      "source": [
        "### Sample Input"
      ]
    },
    {
      "cell_type": "markdown",
      "id": "c0526b8c",
      "metadata": {
        "id": "c0526b8c"
      },
      "source": [
        "| id | num |\n",
        "| --- | --- |\n",
        "| 1 | 1 |\n",
        "| 2 | 2 |\n",
        "| 3 | 2 |\n",
        "| 4 | 2 |\n",
        "| 5 | 2 |\n",
        "| 6 | 1 |\n",
        "| 7 | 1 |\n",
        "| 8 | 1 |\n",
        "| 9 | 1 |"
      ]
    },
    {
      "cell_type": "markdown",
      "id": "71fad9f8",
      "metadata": {
        "id": "71fad9f8"
      },
      "source": [
        "### Sample Output\n",
        "| num |\n",
        "| --- |\n",
        "| 1 |\n",
        "| 2 |\n"
      ]
    },
    {
      "cell_type": "markdown",
      "id": "8306d027",
      "metadata": {
        "id": "8306d027"
      },
      "source": [
        "### Space for Work"
      ]
    },
    {
      "cell_type": "code",
      "execution_count": null,
      "id": "6756b480",
      "metadata": {
        "id": "6756b480"
      },
      "outputs": [],
      "source": [
        "### Tulis query pada online editor yang telah disarankan atau sesuai dengan preferensi ###\n",
        "\n",
        "SELECT DISTINCT\n",
        "    num FROM ( SELECT num,\n",
        "               LAG(num) OVER (ORDER BY id) AS prev_num,\n",
        "               LEAD(num) OVER (ORDER BY id) AS next_num\n",
        "               FROM input_number ) AS subquery\n",
        "        WHERE num = prev_num AND num = next_num;"
      ]
    }
  ],
  "metadata": {
    "kernelspec": {
      "display_name": "Python 3",
      "language": "python",
      "name": "python3"
    },
    "language_info": {
      "codemirror_mode": {
        "name": "ipython",
        "version": 3
      },
      "file_extension": ".py",
      "mimetype": "text/x-python",
      "name": "python",
      "nbconvert_exporter": "python",
      "pygments_lexer": "ipython3",
      "version": "3.7.0"
    },
    "colab": {
      "provenance": []
    }
  },
  "nbformat": 4,
  "nbformat_minor": 5
}