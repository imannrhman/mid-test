{
  "cells": [
    {
      "cell_type": "markdown",
      "id": "4e147004",
      "metadata": {
        "id": "4e147004"
      },
      "source": [
        "### Python 2 : Spy Text Decoder"
      ]
    },
    {
      "cell_type": "markdown",
      "id": "983e04ac",
      "metadata": {
        "id": "983e04ac"
      },
      "source": [
        "### Task"
      ]
    },
    {
      "cell_type": "markdown",
      "id": "5ec350f9",
      "metadata": {
        "id": "5ec350f9"
      },
      "source": [
        "Your function name should be `decode`.\n",
        "\n",
        "Your input will be two strings:\n",
        "- The First Input String: is the code that you need to decode. It contains letters only.\n",
        "- The Second Input String: is in the form of string, but they contain integers only.\n",
        "\n",
        "Rearrange the code according to the integers as such:\n",
        "- If the first integer is '5', then, you need to put the first letter to the 5th position\n",
        "- If the second integer is '3', then you need to put the second letter to the 3rd position\n",
        "\n",
        "and so on. Please understand the examples given below.\n",
        "\n",
        "Your output should be a string of the decoded text.\n",
        "\n",
        "### Constraint\n",
        "\n",
        "The maximum `length` of input is 9 characters.\n",
        "There will be no input strings which are longer than 10 characters."
      ]
    },
    {
      "cell_type": "markdown",
      "id": "fe7657d7",
      "metadata": {
        "id": "fe7657d7"
      },
      "source": [
        "### Example 1:\n",
        "\n",
        "Input:\n",
        "- First String: `'abc'`\n",
        "- Second String: `'321'`\n",
        "\n",
        "This is how you decode it:\n",
        "- Letter 'a' should be in the 3rd position\n",
        "- Letter 'b' should be in the 2nd position\n",
        "- Letter 'c' should be in the 1st position\n",
        "\n",
        "Output: `cba`"
      ]
    },
    {
      "cell_type": "markdown",
      "id": "70c43c1f",
      "metadata": {
        "id": "70c43c1f"
      },
      "source": [
        "### Example 2:\n",
        "\n",
        "Input:\n",
        "- First String: `'niimbdbig'`\n",
        "- Second String: `'847561329'`\n",
        "\n",
        "This is how you decode it:\n",
        "- Letter 'n' should be in the 8th position\n",
        "- Letter 'i' should be in the 4th position\n",
        "- Letter 'i' should be in the 7th position\n",
        "- Letter 'm' should be in the 5th position\n",
        "- Letter 'b' should be in the 6th position\n",
        "- Letter 'd' should be in the 1st position\n",
        "- Letter 'b' should be in the 3rd position\n",
        "- Letter 'i' should be in the 2nd position\n",
        "- Letter 'g' should be in the 9th position\n",
        "\n",
        "Output: `'dibimbing'`"
      ]
    },
    {
      "cell_type": "markdown",
      "id": "09f9a98e",
      "metadata": {
        "id": "09f9a98e"
      },
      "source": [
        "### Example 3:\n",
        "\n",
        "Input:\n",
        "- First String: `'xyzabc'`\n",
        "- Second String: `'654123'`\n",
        "\n",
        "This is how you decode it:\n",
        "- Letter 'x' should be in the 6th position\n",
        "- Letter 'y' should be in the 5th position\n",
        "- Letter 'z' should be in the 4th position\n",
        "- Letter 'a' should be in the 1st position\n",
        "- Letter 'b' should be in the 2nd position\n",
        "- Letter 'c' should be in the 3rd position\n",
        "\n",
        "Output: `'abczyx'`"
      ]
    },
    {
      "cell_type": "markdown",
      "id": "07766ab3",
      "metadata": {
        "id": "07766ab3"
      },
      "source": [
        "### Input Format\n",
        "\n",
        "The input is in the shape of two strings."
      ]
    },
    {
      "cell_type": "markdown",
      "id": "2d318a87",
      "metadata": {
        "id": "2d318a87"
      },
      "source": [
        "### Output Format\n",
        "\n",
        "The output is in the shape of a string."
      ]
    },
    {
      "cell_type": "markdown",
      "id": "8ac2ef21",
      "metadata": {
        "id": "8ac2ef21"
      },
      "source": [
        "### Sample Input"
      ]
    },
    {
      "cell_type": "markdown",
      "id": "54ff47dc",
      "metadata": {
        "id": "54ff47dc"
      },
      "source": [
        "`'abc'`\n",
        "\n",
        "`'312'`"
      ]
    },
    {
      "cell_type": "markdown",
      "id": "fc40c446",
      "metadata": {
        "id": "fc40c446"
      },
      "source": [
        "### Sample Output\n",
        "`'bca'`"
      ]
    },
    {
      "cell_type": "markdown",
      "id": "04034fe3",
      "metadata": {
        "id": "04034fe3"
      },
      "source": [
        "### Space for Work"
      ]
    },
    {
      "cell_type": "code",
      "execution_count": null,
      "id": "65f04bc9",
      "metadata": {
        "id": "65f04bc9"
      },
      "outputs": [],
      "source": [
        "def decode(input_string_1, input_string_2):\n",
        "    ### Write your solution here ###\n",
        "    list_value = list(input_string_1)\n",
        "    list_index = list(input_string_2)\n",
        "\n",
        "    new_list = list(range(len(list_value)))\n",
        "    for i in range(len(list_value)):\n",
        "      index_where = int(list_index[i]) - 1\n",
        "      new_list[index_where] = list_value[i]\n",
        "\n",
        "\n",
        "    return \"\".join(new_list)"
      ]
    },
    {
      "cell_type": "code",
      "source": [
        "decode('abc', '321')"
      ],
      "metadata": {
        "id": "t5SlqpIba7jO",
        "outputId": "e0d41d37-f7e0-4ad9-f0d9-263d92e1f670",
        "colab": {
          "base_uri": "https://localhost:8080/",
          "height": 35
        }
      },
      "id": "t5SlqpIba7jO",
      "execution_count": null,
      "outputs": [
        {
          "output_type": "execute_result",
          "data": {
            "text/plain": [
              "'cba'"
            ],
            "application/vnd.google.colaboratory.intrinsic+json": {
              "type": "string"
            }
          },
          "metadata": {},
          "execution_count": 39
        }
      ]
    },
    {
      "cell_type": "code",
      "source": [
        "decode('niimbdbig', '847561329')"
      ],
      "metadata": {
        "id": "zFc1MHb-a1r9",
        "outputId": "6dd7d58d-139e-4711-d2b8-3d6f8c3554da",
        "colab": {
          "base_uri": "https://localhost:8080/",
          "height": 35
        }
      },
      "id": "zFc1MHb-a1r9",
      "execution_count": null,
      "outputs": [
        {
          "output_type": "execute_result",
          "data": {
            "text/plain": [
              "'dibimbing'"
            ],
            "application/vnd.google.colaboratory.intrinsic+json": {
              "type": "string"
            }
          },
          "metadata": {},
          "execution_count": 40
        }
      ]
    },
    {
      "cell_type": "code",
      "source": [
        "decode('xyzabc', '654123')"
      ],
      "metadata": {
        "id": "u1-HaCRbaxzB",
        "outputId": "1975e34a-eb6b-4f12-eda8-32af4b0a822a",
        "colab": {
          "base_uri": "https://localhost:8080/",
          "height": 35
        }
      },
      "id": "u1-HaCRbaxzB",
      "execution_count": null,
      "outputs": [
        {
          "output_type": "execute_result",
          "data": {
            "text/plain": [
              "'abczyx'"
            ],
            "application/vnd.google.colaboratory.intrinsic+json": {
              "type": "string"
            }
          },
          "metadata": {},
          "execution_count": 41
        }
      ]
    },
    {
      "cell_type": "code",
      "source": [
        "decode('abc', '312')"
      ],
      "metadata": {
        "id": "OxCpRz2gX6uN",
        "outputId": "1d655cb5-3c55-4543-c8ae-a06f8e9a2d9c",
        "colab": {
          "base_uri": "https://localhost:8080/",
          "height": 35
        }
      },
      "id": "OxCpRz2gX6uN",
      "execution_count": null,
      "outputs": [
        {
          "output_type": "execute_result",
          "data": {
            "text/plain": [
              "'bca'"
            ],
            "application/vnd.google.colaboratory.intrinsic+json": {
              "type": "string"
            }
          },
          "metadata": {},
          "execution_count": 42
        }
      ]
    }
  ],
  "metadata": {
    "kernelspec": {
      "display_name": "Python 3",
      "language": "python",
      "name": "python3"
    },
    "language_info": {
      "codemirror_mode": {
        "name": "ipython",
        "version": 3
      },
      "file_extension": ".py",
      "mimetype": "text/x-python",
      "name": "python",
      "nbconvert_exporter": "python",
      "pygments_lexer": "ipython3",
      "version": "3.7.0"
    },
    "colab": {
      "provenance": []
    }
  },
  "nbformat": 4,
  "nbformat_minor": 5
}