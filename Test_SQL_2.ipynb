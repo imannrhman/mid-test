{
  "nbformat": 4,
  "nbformat_minor": 5,
  "metadata": {
    "kernelspec": {
      "display_name": "Python 3",
      "language": "python",
      "name": "python3"
    },
    "language_info": {
      "codemirror_mode": {
        "name": "ipython",
        "version": 3
      },
      "file_extension": ".py",
      "mimetype": "text/x-python",
      "name": "python",
      "nbconvert_exporter": "python",
      "pygments_lexer": "ipython3",
      "version": "3.7.0"
    },
    "colab": {
      "provenance": []
    }
  },
  "cells": [
    {
      "cell_type": "markdown",
      "metadata": {
        "id": "87919d68"
      },
      "source": [
        "### SQL 2 : Email Duplicates"
      ],
      "id": "87919d68"
    },
    {
      "cell_type": "markdown",
      "metadata": {
        "id": "c061c30a"
      },
      "source": [
        "### Task"
      ],
      "id": "c061c30a"
    },
    {
      "cell_type": "markdown",
      "metadata": {
        "id": "66fcf833"
      },
      "source": [
        "Write a SQL query to find all duplicate emails that is given in the input.\n",
        "\n",
        "The input will be a table named `email_list` consisting of two columns:\n",
        "- The first column is the ID\n",
        "- The second column is the email address\n",
        "\n",
        "Your output should consist of one column, and inside that column is the email address(es) that is/are duplicated."
      ],
      "id": "66fcf833"
    },
    {
      "cell_type": "markdown",
      "metadata": {
        "id": "aee24374"
      },
      "source": [
        "### Example 1:\n",
        "\n",
        "- Input: a table named `email_list` as such:\n",
        "\n",
        "| ID | email |\n",
        "| --- | --- |\n",
        "| 1 | abc@gmail.com |\n",
        "| 2 | def@gmail.com |\n",
        "| 3 | abc@yahoo.com |\n",
        "| 4 | abc@gmail.com |\n",
        "\n",
        "- Output =\n",
        "| email |\n",
        "| --- |\n",
        "| abc@gmail.com |\n",
        "\n",
        "\n",
        "Since the duplicate of email is `abc@gmail.com`, then that should be our output. DO NOT write `abc@gmail.com` more than once. DO NOT insert any other columns. Please pay attention to this."
      ],
      "id": "aee24374"
    },
    {
      "cell_type": "markdown",
      "metadata": {
        "id": "e85af386"
      },
      "source": [
        "### Example 2:\n",
        "\n",
        "- Input =\n",
        "\n",
        "| ID | email |\n",
        "| --- | --- |\n",
        "| 1 | abc@gmail.com |\n",
        "| 2 | def@gmail.com |\n",
        "| 3 | abc@yahoo.com |\n",
        "| 4 | abc@gmail.com |\n",
        "| 5 | def@gmail.com |\n",
        "| 6 | def@gmail.com |\n",
        "| 7 | abc@bing.com |\n",
        "\n",
        "- Output =\n",
        "| email |\n",
        "| --- |\n",
        "| abc@gmail.com |\n",
        "| def@gmail.com |\n",
        "\n",
        "\n",
        "Since the duplicate of email is `abc@gmail.com` and `def@gmail.com`, then that should be our output. DO NOT write `abc@gmail.com` and `def@gmail.com` more than once. DO NOT insert any other columns."
      ],
      "id": "e85af386"
    },
    {
      "cell_type": "markdown",
      "metadata": {
        "id": "e7807496"
      },
      "source": [
        "### Input Format\n",
        "\n",
        "The input is in the shape of a table named `email_list`"
      ],
      "id": "e7807496"
    },
    {
      "cell_type": "markdown",
      "metadata": {
        "id": "e9f0d6c5"
      },
      "source": [
        "### Output Format\n",
        "\n",
        "The output is in the shape of a table with a single column"
      ],
      "id": "e9f0d6c5"
    },
    {
      "cell_type": "markdown",
      "metadata": {
        "id": "f9173e59"
      },
      "source": [
        "### Sample Input"
      ],
      "id": "f9173e59"
    },
    {
      "cell_type": "markdown",
      "metadata": {
        "id": "c0526b8c"
      },
      "source": [
        "| ID | email |\n",
        "| --- | --- |\n",
        "| 1 | abc@gmail.com |\n",
        "| 2 | def@gmail.com |\n",
        "| 3 | abc@yahoo.com |\n",
        "| 4 | abc@gmail.com |\n",
        "| 5 | def@gmail.com |\n",
        "| 6 | def@gmail.com |\n",
        "| 7 | abc@bing.com |"
      ],
      "id": "c0526b8c"
    },
    {
      "cell_type": "markdown",
      "metadata": {
        "id": "71fad9f8"
      },
      "source": [
        "### Sample Output\n",
        "| email |\n",
        "| --- |\n",
        "| abc@gmail.com |\n",
        "| def@gmail.com |\n"
      ],
      "id": "71fad9f8"
    },
    {
      "cell_type": "markdown",
      "metadata": {
        "id": "8306d027"
      },
      "source": [
        "### Space for Work"
      ],
      "id": "8306d027"
    },
    {
      "cell_type": "code",
      "metadata": {
        "id": "6756b480"
      },
      "source": [
        "### Tulis query pada online editor yang telah disarankan atau sesuai dengan preferensi ###\n",
        "\n",
        "SELECT email FROM email_list GROUP BY email HAVING COUNT(email) > 1;"
      ],
      "id": "6756b480",
      "execution_count": null,
      "outputs": []
    }
  ]
}